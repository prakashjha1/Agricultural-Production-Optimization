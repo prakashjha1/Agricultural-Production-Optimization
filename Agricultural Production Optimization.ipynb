{
 "cells": [
  {
   "cell_type": "code",
   "execution_count": 1,
   "id": "3362d0ad",
   "metadata": {},
   "outputs": [],
   "source": [
    "#for data manipulations\n",
    "import numpy as np\n",
    "import pandas as pd\n",
    "\n",
    "#for data visualizations\n",
    "import matplotlib.pyplot as plt\n",
    "import seaborn as sns\n",
    "\n",
    "# for interactivity\n",
    "from ipywidgets import interact"
   ]
  },
  {
   "cell_type": "code",
   "execution_count": 2,
   "id": "38517d74",
   "metadata": {},
   "outputs": [],
   "source": [
    " # Lets read the dataset\n",
    "data = pd.read_csv('data.csv')"
   ]
  },
  {
   "cell_type": "code",
   "execution_count": 3,
   "id": "d43ff34d",
   "metadata": {},
   "outputs": [
    {
     "name": "stdout",
     "output_type": "stream",
     "text": [
      "Shape of the Dataset:  (2200, 8)\n"
     ]
    }
   ],
   "source": [
    "# Lets check the shape of the dataset\n",
    "print(\"Shape of the Dataset: \",data.shape)"
   ]
  },
  {
   "cell_type": "code",
   "execution_count": 4,
   "id": "4d282317",
   "metadata": {},
   "outputs": [
    {
     "data": {
      "text/html": [
       "<div>\n",
       "<style scoped>\n",
       "    .dataframe tbody tr th:only-of-type {\n",
       "        vertical-align: middle;\n",
       "    }\n",
       "\n",
       "    .dataframe tbody tr th {\n",
       "        vertical-align: top;\n",
       "    }\n",
       "\n",
       "    .dataframe thead th {\n",
       "        text-align: right;\n",
       "    }\n",
       "</style>\n",
       "<table border=\"1\" class=\"dataframe\">\n",
       "  <thead>\n",
       "    <tr style=\"text-align: right;\">\n",
       "      <th></th>\n",
       "      <th>N</th>\n",
       "      <th>P</th>\n",
       "      <th>K</th>\n",
       "      <th>temperature</th>\n",
       "      <th>humidity</th>\n",
       "      <th>ph</th>\n",
       "      <th>rainfall</th>\n",
       "      <th>label</th>\n",
       "    </tr>\n",
       "  </thead>\n",
       "  <tbody>\n",
       "    <tr>\n",
       "      <th>0</th>\n",
       "      <td>90</td>\n",
       "      <td>42</td>\n",
       "      <td>43</td>\n",
       "      <td>20.879744</td>\n",
       "      <td>82.002744</td>\n",
       "      <td>6.502985</td>\n",
       "      <td>202.935536</td>\n",
       "      <td>rice</td>\n",
       "    </tr>\n",
       "    <tr>\n",
       "      <th>1</th>\n",
       "      <td>85</td>\n",
       "      <td>58</td>\n",
       "      <td>41</td>\n",
       "      <td>21.770462</td>\n",
       "      <td>80.319644</td>\n",
       "      <td>7.038096</td>\n",
       "      <td>226.655537</td>\n",
       "      <td>rice</td>\n",
       "    </tr>\n",
       "    <tr>\n",
       "      <th>2</th>\n",
       "      <td>60</td>\n",
       "      <td>55</td>\n",
       "      <td>44</td>\n",
       "      <td>23.004459</td>\n",
       "      <td>82.320763</td>\n",
       "      <td>7.840207</td>\n",
       "      <td>263.964248</td>\n",
       "      <td>rice</td>\n",
       "    </tr>\n",
       "    <tr>\n",
       "      <th>3</th>\n",
       "      <td>74</td>\n",
       "      <td>35</td>\n",
       "      <td>40</td>\n",
       "      <td>26.491096</td>\n",
       "      <td>80.158363</td>\n",
       "      <td>6.980401</td>\n",
       "      <td>242.864034</td>\n",
       "      <td>rice</td>\n",
       "    </tr>\n",
       "    <tr>\n",
       "      <th>4</th>\n",
       "      <td>78</td>\n",
       "      <td>42</td>\n",
       "      <td>42</td>\n",
       "      <td>20.130175</td>\n",
       "      <td>81.604873</td>\n",
       "      <td>7.628473</td>\n",
       "      <td>262.717340</td>\n",
       "      <td>rice</td>\n",
       "    </tr>\n",
       "    <tr>\n",
       "      <th>5</th>\n",
       "      <td>69</td>\n",
       "      <td>37</td>\n",
       "      <td>42</td>\n",
       "      <td>23.058049</td>\n",
       "      <td>83.370118</td>\n",
       "      <td>7.073454</td>\n",
       "      <td>251.055000</td>\n",
       "      <td>rice</td>\n",
       "    </tr>\n",
       "    <tr>\n",
       "      <th>6</th>\n",
       "      <td>69</td>\n",
       "      <td>55</td>\n",
       "      <td>38</td>\n",
       "      <td>22.708838</td>\n",
       "      <td>82.639414</td>\n",
       "      <td>5.700806</td>\n",
       "      <td>271.324860</td>\n",
       "      <td>rice</td>\n",
       "    </tr>\n",
       "    <tr>\n",
       "      <th>7</th>\n",
       "      <td>94</td>\n",
       "      <td>53</td>\n",
       "      <td>40</td>\n",
       "      <td>20.277744</td>\n",
       "      <td>82.894086</td>\n",
       "      <td>5.718627</td>\n",
       "      <td>241.974195</td>\n",
       "      <td>rice</td>\n",
       "    </tr>\n",
       "    <tr>\n",
       "      <th>8</th>\n",
       "      <td>89</td>\n",
       "      <td>54</td>\n",
       "      <td>38</td>\n",
       "      <td>24.515881</td>\n",
       "      <td>83.535216</td>\n",
       "      <td>6.685346</td>\n",
       "      <td>230.446236</td>\n",
       "      <td>rice</td>\n",
       "    </tr>\n",
       "    <tr>\n",
       "      <th>9</th>\n",
       "      <td>68</td>\n",
       "      <td>58</td>\n",
       "      <td>38</td>\n",
       "      <td>23.223974</td>\n",
       "      <td>83.033227</td>\n",
       "      <td>6.336254</td>\n",
       "      <td>221.209196</td>\n",
       "      <td>rice</td>\n",
       "    </tr>\n",
       "  </tbody>\n",
       "</table>\n",
       "</div>"
      ],
      "text/plain": [
       "    N   P   K  temperature   humidity        ph    rainfall label\n",
       "0  90  42  43    20.879744  82.002744  6.502985  202.935536  rice\n",
       "1  85  58  41    21.770462  80.319644  7.038096  226.655537  rice\n",
       "2  60  55  44    23.004459  82.320763  7.840207  263.964248  rice\n",
       "3  74  35  40    26.491096  80.158363  6.980401  242.864034  rice\n",
       "4  78  42  42    20.130175  81.604873  7.628473  262.717340  rice\n",
       "5  69  37  42    23.058049  83.370118  7.073454  251.055000  rice\n",
       "6  69  55  38    22.708838  82.639414  5.700806  271.324860  rice\n",
       "7  94  53  40    20.277744  82.894086  5.718627  241.974195  rice\n",
       "8  89  54  38    24.515881  83.535216  6.685346  230.446236  rice\n",
       "9  68  58  38    23.223974  83.033227  6.336254  221.209196  rice"
      ]
     },
     "execution_count": 4,
     "metadata": {},
     "output_type": "execute_result"
    }
   ],
   "source": [
    "# Lets check the dataset\n",
    "data.head(10)"
   ]
  },
  {
   "cell_type": "code",
   "execution_count": 5,
   "id": "b02fc43d",
   "metadata": {},
   "outputs": [
    {
     "data": {
      "text/plain": [
       "N              0\n",
       "P              0\n",
       "K              0\n",
       "temperature    0\n",
       "humidity       0\n",
       "ph             0\n",
       "rainfall       0\n",
       "label          0\n",
       "dtype: int64"
      ]
     },
     "execution_count": 5,
     "metadata": {},
     "output_type": "execute_result"
    }
   ],
   "source": [
    "#Lets check if there is any missing value present in dataset\n",
    "data.isnull().sum()"
   ]
  },
  {
   "cell_type": "code",
   "execution_count": 6,
   "id": "6362f571",
   "metadata": {},
   "outputs": [
    {
     "data": {
      "text/plain": [
       "pigeonpeas     100\n",
       "orange         100\n",
       "cotton         100\n",
       "lentil         100\n",
       "papaya         100\n",
       "coconut        100\n",
       "mungbean       100\n",
       "mothbeans      100\n",
       "coffee         100\n",
       "apple          100\n",
       "pomegranate    100\n",
       "chickpea       100\n",
       "maize          100\n",
       "watermelon     100\n",
       "banana         100\n",
       "grapes         100\n",
       "muskmelon      100\n",
       "rice           100\n",
       "jute           100\n",
       "blackgram      100\n",
       "kidneybeans    100\n",
       "mango          100\n",
       "Name: label, dtype: int64"
      ]
     },
     "execution_count": 6,
     "metadata": {},
     "output_type": "execute_result"
    }
   ],
   "source": [
    "#Lets count the crops present in this dataset\n",
    "data['label'].value_counts()"
   ]
  },
  {
   "cell_type": "code",
   "execution_count": 9,
   "id": "fb3e6e12",
   "metadata": {},
   "outputs": [
    {
     "name": "stdout",
     "output_type": "stream",
     "text": [
      "Average Ratio of Nitrogen in the Soil : 50.55\n",
      "Average Ratio of Phosphorous in the Soil : 53.36\n",
      "Average Ratio of Potassium in the Soil : 48.15\n",
      "Average Temperature in Celsius : 25.62\n",
      "Average Relative Humidity in % : 71.48\n",
      "Average PH value of the soil : 6.47\n",
      "Average Rainfall in mm : 103.46\n"
     ]
    }
   ],
   "source": [
    "# Lets check the summary for all crops\n",
    "print(\"Average Ratio of Nitrogen in the Soil : {0:.2f}\".format(data['N'].mean()))\n",
    "print(\"Average Ratio of Phosphorous in the Soil : {0:.2f}\".format(data['P'].mean()))\n",
    "print(\"Average Ratio of Potassium in the Soil : {0:.2f}\".format(data['K'].mean()))\n",
    "print(\"Average Temperature in Celsius : {0:.2f}\".format(data['temperature'].mean()))\n",
    "print(\"Average Relative Humidity in % : {0:.2f}\".format(data['humidity'].mean()))\n",
    "print(\"Average PH value of the soil : {0:.2f}\".format(data['ph'].mean()))\n",
    "print(\"Average Rainfall in mm : {0:.2f}\".format(data['rainfall'].mean()))"
   ]
  },
  {
   "cell_type": "code",
   "execution_count": 10,
   "id": "32ecfbac",
   "metadata": {},
   "outputs": [
    {
     "data": {
      "application/vnd.jupyter.widget-view+json": {
       "model_id": "399ccb3418d6422bba01163744a6b7fa",
       "version_major": 2,
       "version_minor": 0
      },
      "text/plain": [
       "interactive(children=(Dropdown(description='crops', options=('pigeonpeas', 'orange', 'cotton', 'lentil', 'papa…"
      ]
     },
     "metadata": {},
     "output_type": "display_data"
    }
   ],
   "source": [
    "#lets check the summary statistics for each of the crops\n",
    "\n",
    "@interact\n",
    "def summary(crops = list(data['label'].value_counts().index)):\n",
    "    x = data[data['label']==crops]\n",
    "    print(\"----------------------------------------------\")\n",
    "    print(\"Statistics for Nitrogen\")\n",
    "    print(\"Minimum Nitrogen required : \",x['N'].min())\n",
    "    print(\"Average Nitrogen required : \",x['N'].mean())\n",
    "    print(\"Maximum Nitrogen required : \",x['N'].max())\n",
    "    print(\"----------------------------------------------\")\n",
    "    print(\"Statistics for Phosphorous\")\n",
    "    print(\"Minimum Phosphorous required : \",x['P'].min())\n",
    "    print(\"Average Phosphorous required : \",x['P'].mean())\n",
    "    print(\"Maximum Phosphorous required : \",x['P'].max())\n",
    "    print(\"----------------------------------------------\")\n",
    "    print(\"Statistics for Potassium\")\n",
    "    print(\"Minimum Potassium required : \",x['K'].min())\n",
    "    print(\"Average Potassium required : \",x['K'].mean())\n",
    "    print(\"Maximum Potassium required : \",x['K'].max())\n",
    "    print(\"----------------------------------------------\")\n",
    "    print(\"Statistics for Temperature\")\n",
    "    print(\"Minimum Temperature required : {0:.2f}\".format(x['temperature'].min()))\n",
    "    print(\"Average Temperature required : {0:.2f} \".format(x['temperature'].mean()))\n",
    "    print(\"Maximum Temperature required : {0:.2f}\".format(x['temperature'].max()))\n",
    "    print(\"----------------------------------------------\")\n",
    "    print(\"Statistics for Humidity\")\n",
    "    print(\"Minimum Humidity required : {0:.2f}\".format(x['humidity'].min()))\n",
    "    print(\"Average Humidity required : {0:.2f} \".format(x['humidity'].mean()))\n",
    "    print(\"Maximum Humidity required : {0:.2f}\".format(x['humidity'].max()))\n",
    "    print(\"----------------------------------------------\")\n",
    "    print(\"Statistics for PH\")\n",
    "    print(\"Minimum PH required : {0:.2f}\".format(x['ph'].min()))\n",
    "    print(\"Average PH required : {0:.2f} \".format(x['ph'].mean()))\n",
    "    print(\"Maximum PH required : {0:.2f}\".format(x['ph'].max()))\n",
    "    print(\"----------------------------------------------\")\n",
    "    print(\"Statistics for Rainfall\")\n",
    "    print(\"Minimum Rainfall required : {0:.2f}\".format(x['rainfall'].min()))\n",
    "    print(\"Average Rainfall required : {0:.2f} \".format(x['rainfall'].mean()))\n",
    "    print(\"Maximum Rainfall required : {0:.2f}\".format(x['rainfall'].max()))\n",
    "    "
   ]
  },
  {
   "cell_type": "code",
   "execution_count": 11,
   "id": "c3de0321",
   "metadata": {},
   "outputs": [
    {
     "data": {
      "application/vnd.jupyter.widget-view+json": {
       "model_id": "5807e886af664273a0080df9c4724111",
       "version_major": 2,
       "version_minor": 0
      },
      "text/plain": [
       "interactive(children=(Dropdown(description='conditions', options=('N', 'P', 'K', 'temperature', 'ph', 'humidit…"
      ]
     },
     "metadata": {},
     "output_type": "display_data"
    }
   ],
   "source": [
    "# Lets compare the Average Requirement for each crops with average conditions\n",
    "\n",
    "@interact\n",
    "def compare(conditions = ['N','P','K','temperature','ph','humidity','rainfall']):\n",
    "    print(\"Average Value for \",conditions,\" is {0:.2f}\".format(data[conditions].mean()))\n",
    "    print(\"------------------------------------------------------\")\n",
    "    print(\"Rice : {0:.2f}\".format(data[data['label']=='rice'][conditions].mean()))\n",
    "    print(\"Black Grams : {0:.2f}\".format(data[data['label']=='blackgram'][conditions].mean()))\n",
    "    print(\"Banana : {0:.2f}\".format(data[data['label']=='banana'][conditions].mean()))\n",
    "    print(\"Jute : {0:.2f}\".format(data[data['label']=='jute'][conditions].mean()))\n",
    "    print(\"Coconut : {0:.2f}\".format(data[data['label']=='coconut'][conditions].mean()))\n",
    "    print(\"Apple : {0:.2f}\".format(data[data['label']=='apple'][conditions].mean()))\n",
    "    print(\"Papaya : {0:.2f}\".format(data[data['label']=='papaya'][conditions].mean()))\n",
    "    print(\"Muskmelon : {0:.2f}\".format(data[data['label']=='muskmelon'][conditions].mean()))\n",
    "    print(\"Grapes : {0:.2f}\".format(data[data['label']=='grapes'][conditions].mean()))\n",
    "    print(\"Watermelon : {0:.2f}\".format(data[data['label']=='watermelon'][conditions].mean()))\n",
    "    print(\"kidney beans : {0:.2f}\".format(data[data['label']=='kidneybeans'][conditions].mean()))\n",
    "    print(\"Mung beans : {0:.2f}\".format(data[data['label']=='mungbean'][conditions].mean()))\n",
    "    print(\"Oranges : {0:.2f}\".format(data[data['label']=='orange'][conditions].mean()))\n",
    "    print(\"Chick Peas : {0:.2f}\".format(data[data['label']=='chickpea'][conditions].mean()))\n",
    "    print(\"Lentils : {0:.2f}\".format(data[data['label']=='lentil'][conditions].mean()))\n",
    "    print(\"Cotton : {0:.2f}\".format(data[data['label']=='cotton'][conditions].mean()))\n",
    "    print(\"Maize : {0:.2f}\".format(data[data['label']=='maize'][conditions].mean()))\n",
    "    print(\"Moth Beans : {0:.2f}\".format(data[data['label']=='mothbeans'][conditions].mean()))\n",
    "    print(\"Pigeon Peas : {0:.2f}\".format(data[data['label']=='pigeonpeas'][conditions].mean()))\n",
    "    print(\"Mango : {0:.2f}\".format(data[data['label']=='mango'][conditions].mean()))\n",
    "    print(\"Pomegranate : {0:.2f}\".format(data[data['label']=='pomegranate'][conditions].mean()))\n",
    "    print(\"Coffee : {0:.2f}\".format(data[data['label']=='coffee'][conditions].mean()))\n",
    "    \n",
    "    \n",
    "    \n",
    "    \n",
    "    \n",
    "    \n",
    "    \n",
    "    "
   ]
  },
  {
   "cell_type": "code",
   "execution_count": 13,
   "id": "50772738",
   "metadata": {},
   "outputs": [
    {
     "data": {
      "application/vnd.jupyter.widget-view+json": {
       "model_id": "e885e6f25f1f42d4bb887f4217c99a48",
       "version_major": 2,
       "version_minor": 0
      },
      "text/plain": [
       "interactive(children=(Dropdown(description='conditions', options=('N', 'P', 'K', 'temperature', 'ph', 'humidit…"
      ]
     },
     "metadata": {},
     "output_type": "display_data"
    }
   ],
   "source": [
    "# Lets make this function more Intuitive\n",
    "\n",
    "@interact\n",
    "def compare(conditions = ['N','P','K','temperature','ph','humidity','rainfall']):\n",
    "    print(\"Crops which requires greater than average \",conditions,\"\\n\")\n",
    "    print(data[data[conditions]>data[conditions].mean()]['label'].unique())\n",
    "    print(\"---------------------------------------------------\")\n",
    "    print(\"Crops which requires less than average \",conditions,\"\\n\")\n",
    "    print(data[data[conditions]<data[conditions].mean()]['label'].unique())\n",
    "    "
   ]
  },
  {
   "cell_type": "code",
   "execution_count": 15,
   "id": "f9758da5",
   "metadata": {},
   "outputs": [
    {
     "name": "stderr",
     "output_type": "stream",
     "text": [
      "/home/samar/anaconda3/lib/python3.8/site-packages/seaborn/distributions.py:2557: FutureWarning: `distplot` is a deprecated function and will be removed in a future version. Please adapt your code to use either `displot` (a figure-level function with similar flexibility) or `histplot` (an axes-level function for histograms).\n",
      "  warnings.warn(msg, FutureWarning)\n",
      "/home/samar/anaconda3/lib/python3.8/site-packages/seaborn/distributions.py:2557: FutureWarning: `distplot` is a deprecated function and will be removed in a future version. Please adapt your code to use either `displot` (a figure-level function with similar flexibility) or `histplot` (an axes-level function for histograms).\n",
      "  warnings.warn(msg, FutureWarning)\n",
      "/home/samar/anaconda3/lib/python3.8/site-packages/seaborn/distributions.py:2557: FutureWarning: `distplot` is a deprecated function and will be removed in a future version. Please adapt your code to use either `displot` (a figure-level function with similar flexibility) or `histplot` (an axes-level function for histograms).\n",
      "  warnings.warn(msg, FutureWarning)\n",
      "/home/samar/anaconda3/lib/python3.8/site-packages/seaborn/distributions.py:2557: FutureWarning: `distplot` is a deprecated function and will be removed in a future version. Please adapt your code to use either `displot` (a figure-level function with similar flexibility) or `histplot` (an axes-level function for histograms).\n",
      "  warnings.warn(msg, FutureWarning)\n",
      "/home/samar/anaconda3/lib/python3.8/site-packages/seaborn/distributions.py:2557: FutureWarning: `distplot` is a deprecated function and will be removed in a future version. Please adapt your code to use either `displot` (a figure-level function with similar flexibility) or `histplot` (an axes-level function for histograms).\n",
      "  warnings.warn(msg, FutureWarning)\n",
      "/home/samar/anaconda3/lib/python3.8/site-packages/seaborn/distributions.py:2557: FutureWarning: `distplot` is a deprecated function and will be removed in a future version. Please adapt your code to use either `displot` (a figure-level function with similar flexibility) or `histplot` (an axes-level function for histograms).\n",
      "  warnings.warn(msg, FutureWarning)\n",
      "/home/samar/anaconda3/lib/python3.8/site-packages/seaborn/distributions.py:2557: FutureWarning: `distplot` is a deprecated function and will be removed in a future version. Please adapt your code to use either `displot` (a figure-level function with similar flexibility) or `histplot` (an axes-level function for histograms).\n",
      "  warnings.warn(msg, FutureWarning)\n"
     ]
    },
    {
     "data": {
      "image/png": "[encoded data removed]",
      "text/plain": [
       "<Figure size 432x288 with 7 Axes>"
      ]
     },
     "metadata": {
      "needs_background": "light"
     },
     "output_type": "display_data"
    }
   ],
   "source": [
    "# Lets plot distribution chart for Agricultural Conditions\n",
    "plt.subplot(2,4,1)\n",
    "sns.distplot(data['N'],color='pink')\n",
    "plt.xlabel('Ratio of Nitrogen',fontsize=12)\n",
    "plt.grid()\n",
    "plt.subplot(2,4,2)\n",
    "sns.distplot(data['P'],color='lightblue')\n",
    "plt.xlabel('Ratio of Phosphorous',fontsize=12)\n",
    "plt.grid()\n",
    "plt.subplot(2,4,3)\n",
    "sns.distplot(data['K'],color='darkblue')\n",
    "plt.xlabel('Ratio of Potassium',fontsize=12)\n",
    "plt.grid()\n",
    "plt.subplot(2,4,4)\n",
    "sns.distplot(data['temperature'],color='black')\n",
    "plt.xlabel('Temperature',fontsize=12)\n",
    "plt.grid()\n",
    "plt.subplot(2,4,5)\n",
    "sns.distplot(data['rainfall'],color='grey')\n",
    "plt.xlabel('Rainfall',fontsize=12)\n",
    "plt.grid()\n",
    "plt.subplot(2,4,6)\n",
    "sns.distplot(data['humidity'],color='lightgreen')\n",
    "plt.xlabel('Humidity',fontsize=12)\n",
    "plt.grid()\n",
    "plt.subplot(2,4,7)\n",
    "sns.distplot(data['ph'],color='darkgreen')\n",
    "plt.xlabel('PH level',fontsize=12)\n",
    "plt.grid()\n",
    "\n",
    "plt.suptitle('Distribution for Agricultural Conditions ',fontsize=20)\n",
    "plt.show()"
   ]
  },
  {
   "cell_type": "code",
   "execution_count": 16,
   "id": "206c368a",
   "metadata": {},
   "outputs": [
    {
     "name": "stdout",
     "output_type": "stream",
     "text": [
      "Crops which requires very high Ratio of Nitrogen Content in Soil :  ['cotton']\n",
      "Crops which requires very high Ratio of Phosphorous Content in Soil :  ['grapes' 'apple']\n",
      "Crops which requires very high Ratio of Potassium Content in Soil :  ['grapes' 'apple']\n",
      "Crops which requires very high Rainfall :  ['rice' 'papaya' 'coconut']\n",
      "Crops which requires very low Temperature :  ['grapes']\n",
      "Crops which requires very high Temperature :  ['grapes' 'papaya']\n",
      "Crops which requires very low Humidity :  ['chickpea' 'kidneybeans']\n",
      "Crops which requires very low pH :  ['mothbeans']\n",
      "Crops which requires very high pH :  ['mothbeans']\n"
     ]
    }
   ],
   "source": [
    "# Lets find out some more information\n",
    "\n",
    "print(\"Crops which requires very high Ratio of Nitrogen Content in Soil : \",data[data['N']>120]['label'].unique())\n",
    "print(\"Crops which requires very high Ratio of Phosphorous Content in Soil : \",data[data['P']>100]['label'].unique())\n",
    "print(\"Crops which requires very high Ratio of Potassium Content in Soil : \",data[data['K']>200]['label'].unique())\n",
    "print(\"Crops which requires very high Rainfall : \",data[data['rainfall']>200]['label'].unique())\n",
    "print(\"Crops which requires very low Temperature : \",data[data['temperature']<10]['label'].unique())\n",
    "print(\"Crops which requires very high Temperature : \",data[data['temperature']>40]['label'].unique())\n",
    "print(\"Crops which requires very low Humidity : \",data[data['humidity']<20]['label'].unique())\n",
    "print(\"Crops which requires very low pH : \",data[data['ph']<4]['label'].unique())\n",
    "print(\"Crops which requires very high pH : \",data[data['ph']>9]['label'].unique())\n",
    "\n"
   ]
  },
  {
   "cell_type": "code",
   "execution_count": 20,
   "id": "a1b46ae8",
   "metadata": {},
   "outputs": [
    {
     "name": "stdout",
     "output_type": "stream",
     "text": [
      "Summer Crops\n",
      "['pigeonpeas' 'mothbeans' 'blackgram' 'mango' 'grapes' 'orange' 'papaya']\n",
      "--------------------------------------------\n",
      "winter Crops\n",
      "['maize' 'pigeonpeas' 'lentil' 'pomegranate' 'grapes' 'orange']\n",
      "--------------------------------------------\n",
      "Rainy Crops\n",
      "['rice' 'papaya' 'coconut']\n"
     ]
    }
   ],
   "source": [
    "# Lets understand which crops can be Grown in Summer season, winter season and Rainy season\n",
    "\n",
    "print(\"Summer Crops\")\n",
    "print(data[(data['temperature']>30) & (data['humidity']>50)]['label'].unique())\n",
    "print(\"--------------------------------------------\")\n",
    "print(\"winter Crops\")\n",
    "print(data[(data['temperature']<20) & (data['humidity']>30)]['label'].unique())\n",
    "print(\"--------------------------------------------\")\n",
    "print(\"Rainy Crops\")\n",
    "print(data[(data['rainfall']>200) & (data['humidity']>30)]['label'].unique())"
   ]
  },
  {
   "cell_type": "code",
   "execution_count": 22,
   "id": "f2fdd74e",
   "metadata": {},
   "outputs": [
    {
     "name": "stdout",
     "output_type": "stream",
     "text": [
      "(2200, 7)\n"
     ]
    }
   ],
   "source": [
    "from sklearn.cluster import KMeans\n",
    "\n",
    "#removing the labels column\n",
    "x = data.drop(['label'],axis=1)\n",
    "\n",
    "#selecting all the values of the data\n",
    "x = x.values\n",
    "\n",
    "#checking the shape\n",
    "print(x.shape)"
   ]
  },
  {
   "cell_type": "code",
   "execution_count": 24,
   "id": "d8d8ed28",
   "metadata": {},
   "outputs": [
    {
     "data": {
      "image/png": "[encoded data removed]",
      "text/plain": [
       "<Figure size 720x288 with 1 Axes>"
      ]
     },
     "metadata": {
      "needs_background": "light"
     },
     "output_type": "display_data"
    }
   ],
   "source": [
    "# Lets determine the Optimum Number of clusters within the Dataset\n",
    "plt.rcParams['figure.figsize'] = (10,4)\n",
    "\n",
    "wcss = []\n",
    "for i in range(1,11):\n",
    "    km = KMeans(n_clusters = i, init = 'k-means++',max_iter = 300,n_init = 10,random_state=0)\n",
    "    km.fit(x)\n",
    "    wcss.append(km.inertia_)\n",
    "    \n",
    "# Lets plot the results\n",
    "plt.plot(range(1,11),wcss)\n",
    "plt.title('The Elbow Method',fontsize=20)\n",
    "plt.xlabel('No. of clusters')\n",
    "plt.ylabel('wcss')\n",
    "plt.show()"
   ]
  },
  {
   "cell_type": "code",
   "execution_count": 25,
   "id": "f0648730",
   "metadata": {},
   "outputs": [
    {
     "name": "stdout",
     "output_type": "stream",
     "text": [
      "Results after applying the K Means Clustering \n",
      "\n",
      "Crops in First cluster:  ['grapes' 'apple']\n",
      "---------------------------------------------------------------\n",
      "Crops in Second cluster:  ['maize' 'banana' 'watermelon' 'muskmelon' 'papaya' 'cotton' 'coffee']\n",
      "---------------------------------------------------------------\n",
      "Crops in Third cluster:  ['rice' 'pigeonpeas' 'papaya' 'coconut' 'jute' 'coffee']\n",
      "---------------------------------------------------------------\n",
      "Crops in Forth cluster:  ['maize' 'chickpea' 'kidneybeans' 'pigeonpeas' 'mothbeans' 'mungbean'\n",
      " 'blackgram' 'lentil' 'pomegranate' 'mango' 'orange' 'papaya' 'coconut']\n"
     ]
    }
   ],
   "source": [
    "#Lets implement the K means algorithm to perform Clustering analysis\n",
    "km = KMeans(n_clusters=4,init='k-means++',max_iter=300,n_init=10,random_state=0)\n",
    "y_mean = km.fit_predict(x)\n",
    "\n",
    "#lets find out the result\n",
    "a = data['label']\n",
    "y_mean = pd.DataFrame(y_mean)\n",
    "z = pd.concat([y_mean,a],axis=1)\n",
    "z = z.rename(columns={0:'cluster'})\n",
    "\n",
    "#Lets check the Cluster of each Crops\n",
    "\n",
    "print(\"Results after applying the K Means Clustering \\n\")\n",
    "print(\"Crops in First cluster: \",z[z['cluster']==0]['label'].unique())\n",
    "print('---------------------------------------------------------------')\n",
    "print(\"Crops in Second cluster: \",z[z['cluster']==1]['label'].unique())\n",
    "print('---------------------------------------------------------------')\n",
    "print(\"Crops in Third cluster: \",z[z['cluster']==2]['label'].unique())\n",
    "print('---------------------------------------------------------------')\n",
    "print(\"Crops in Forth cluster: \",z[z['cluster']==3]['label'].unique())\n"
   ]
  },
  {
   "cell_type": "code",
   "execution_count": 26,
   "id": "64acb4c1",
   "metadata": {},
   "outputs": [
    {
     "name": "stdout",
     "output_type": "stream",
     "text": [
      "Shape of x:  (2200, 7)\n",
      "Shape of y:  (2200,)\n"
     ]
    }
   ],
   "source": [
    " # Lets split the Dataset for Predictive Modelling\n",
    "    \n",
    "y = data['label']\n",
    "x = data.drop(['label'],axis=1)\n",
    "\n",
    "print(\"Shape of x: \",x.shape)\n",
    "print(\"Shape of y: \",y.shape)"
   ]
  },
  {
   "cell_type": "code",
   "execution_count": 27,
   "id": "c3df5201",
   "metadata": {},
   "outputs": [
    {
     "name": "stdout",
     "output_type": "stream",
     "text": [
      "The Shape of x train:  (1760, 7)\n",
      "The Shape of x train:  (440, 7)\n",
      "The Shape of y train:  (1760,)\n",
      "The Shape of y test:  (440,)\n"
     ]
    }
   ],
   "source": [
    "# Lets create Training and Testing Sets for validation of Results\n",
    "from sklearn.model_selection import train_test_split\n",
    "x_train,x_test,y_train,y_test = train_test_split(x,y,test_size=0.2,random_state=0)\n",
    "\n",
    "print(\"The Shape of x train: \",x_train.shape)\n",
    "print(\"The Shape of x train: \",x_test.shape)\n",
    "print(\"The Shape of y train: \",y_train.shape)\n",
    "print(\"The Shape of y test: \",y_test.shape)"
   ]
  },
  {
   "cell_type": "code",
   "execution_count": 29,
   "id": "ce0e973f",
   "metadata": {},
   "outputs": [
    {
     "name": "stderr",
     "output_type": "stream",
     "text": [
      "/home/samar/anaconda3/lib/python3.8/site-packages/sklearn/linear_model/_logistic.py:763: ConvergenceWarning: lbfgs failed to converge (status=1):\n",
      "STOP: TOTAL NO. of ITERATIONS REACHED LIMIT.\n",
      "\n",
      "Increase the number of iterations (max_iter) or scale the data as shown in:\n",
      "    https://scikit-learn.org/stable/modules/preprocessing.html\n",
      "Please also refer to the documentation for alternative solver options:\n",
      "    https://scikit-learn.org/stable/modules/linear_model.html#logistic-regression\n",
      "  n_iter_i = _check_optimize_result(\n"
     ]
    }
   ],
   "source": [
    "# lets create a predictive model\n",
    "\n",
    "from sklearn.linear_model import LogisticRegression\n",
    "model = LogisticRegression()\n",
    "model.fit(x_train,y_train)\n",
    "y_pred = model.predict(x_test)"
   ]
  },
  {
   "cell_type": "code",
   "execution_count": 33,
   "id": "a22f0e8b",
   "metadata": {},
   "outputs": [
    {
     "data": {
      "image/png": "[encoded data removed]",
      "text/plain": [
       "<Figure size 720x720 with 2 Axes>"
      ]
     },
     "metadata": {
      "needs_background": "light"
     },
     "output_type": "display_data"
    }
   ],
   "source": [
    "# lets evaluate the model performance\n",
    "from sklearn.metrics import confusion_matrix, classification_report\n",
    "\n",
    "# Lets print the confusion matrix first\n",
    "plt.rcParams['figure.figsize']=(10,10)\n",
    "cm = confusion_matrix(y_test,y_pred)\n",
    "sns.heatmap(cm,annot=True,cmap='Wistia')\n",
    "plt.title('Confusion Matrix for Logistic Regression',fontsize=15)\n",
    "plt.show()"
   ]
  },
  {
   "cell_type": "code",
   "execution_count": 34,
   "id": "3b82dd2b",
   "metadata": {},
   "outputs": [
    {
     "name": "stdout",
     "output_type": "stream",
     "text": [
      "              precision    recall  f1-score   support\n",
      "\n",
      "       apple       1.00      1.00      1.00        18\n",
      "      banana       1.00      1.00      1.00        18\n",
      "   blackgram       0.86      0.82      0.84        22\n",
      "    chickpea       1.00      1.00      1.00        23\n",
      "     coconut       1.00      1.00      1.00        15\n",
      "      coffee       1.00      1.00      1.00        17\n",
      "      cotton       0.89      1.00      0.94        16\n",
      "      grapes       1.00      1.00      1.00        18\n",
      "        jute       0.84      1.00      0.91        21\n",
      " kidneybeans       1.00      1.00      1.00        20\n",
      "      lentil       0.94      0.94      0.94        17\n",
      "       maize       0.94      0.89      0.91        18\n",
      "       mango       1.00      1.00      1.00        21\n",
      "   mothbeans       0.88      0.92      0.90        25\n",
      "    mungbean       1.00      1.00      1.00        17\n",
      "   muskmelon       1.00      1.00      1.00        23\n",
      "      orange       1.00      1.00      1.00        23\n",
      "      papaya       1.00      0.95      0.98        21\n",
      "  pigeonpeas       1.00      1.00      1.00        22\n",
      " pomegranate       1.00      1.00      1.00        23\n",
      "        rice       1.00      0.84      0.91        25\n",
      "  watermelon       1.00      1.00      1.00        17\n",
      "\n",
      "    accuracy                           0.97       440\n",
      "   macro avg       0.97      0.97      0.97       440\n",
      "weighted avg       0.97      0.97      0.97       440\n",
      "\n"
     ]
    }
   ],
   "source": [
    "# Lets print the classification report\n",
    "\n",
    "cr = classification_report(y_test,y_pred)\n",
    "print(cr)"
   ]
  },
  {
   "cell_type": "code",
   "execution_count": 38,
   "id": "c2190802",
   "metadata": {},
   "outputs": [
    {
     "name": "stdout",
     "output_type": "stream",
     "text": [
      "The suggested Crop for Given Climatic Conditions is :  ['rice']\n"
     ]
    }
   ],
   "source": [
    "# Lets predict something \n",
    "prediction = model.predict((np.array([[90,40,44,19,80,7,200]])))\n",
    "print(\"The suggested Crop for Given Climatic Conditions is : \",prediction)"
   ]
  },
  {
   "cell_type": "code",
   "execution_count": null,
   "id": "4f791d43",
   "metadata": {},
   "outputs": [],
   "source": []
  }
 ],
 "metadata": {
  "kernelspec": {
   "display_name": "Python 3",
   "language": "python",
   "name": "python3"
  },
  "language_info": {
   "codemirror_mode": {
    "name": "ipython",
    "version": 3
   },
   "file_extension": ".py",
   "mimetype": "text/x-python",
   "name": "python",
   "nbconvert_exporter": "python",
   "pygments_lexer": "ipython3",
   "version": "3.8.8"
  }
 },
 "nbformat": 4,
 "nbformat_minor": 5
}
